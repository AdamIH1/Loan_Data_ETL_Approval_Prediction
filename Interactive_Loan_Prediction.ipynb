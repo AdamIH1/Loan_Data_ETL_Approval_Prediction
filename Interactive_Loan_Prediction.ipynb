{
 "cells": [
  {
   "cell_type": "markdown",
   "id": "f9ff55f9",
   "metadata": {},
   "source": [
    "## Imports\n"
   ]
  },
  {
   "cell_type": "code",
   "execution_count": 36,
   "id": "0b025a57",
   "metadata": {},
   "outputs": [],
   "source": [
    "import pandas as pd\n",
    "import numpy as np\n",
    "\n",
    "# import saved model \n",
    "import pickle\n",
    "\n",
    "# interactive \n",
    "from ipywidgets import interact, widgets  "
   ]
  },
  {
   "cell_type": "markdown",
   "id": "a504dd06",
   "metadata": {},
   "source": [
    "## Import Model "
   ]
  },
  {
   "cell_type": "code",
   "execution_count": 37,
   "id": "a1c68e7f",
   "metadata": {},
   "outputs": [],
   "source": [
    "filename = \"rfc_tune.pickle\"\n",
    "rfc_tune = loaded_model = pickle.load(open(filename, \"rb\"))"
   ]
  },
  {
   "cell_type": "markdown",
   "id": "a4b9232c",
   "metadata": {},
   "source": [
    "## Function to evaluate interactive input "
   ]
  },
  {
   "cell_type": "code",
   "execution_count": 44,
   "id": "f78f6339",
   "metadata": {},
   "outputs": [],
   "source": [
    "def yes_no_rfc(Applicant_Income, Coapplicant_Income,Loan_Amount\n",
    "               , Loan_Amount_Term, Credit_History, Gender\n",
    "               , Marital_Status, Dependents, Education_Graduate\n",
    "               , Self_Employed, Property_Area): \n",
    "    \n",
    "    total_income = np.log(Applicant_Income + Coapplicant_Income)\n",
    "    emi = Loan_Amount / Loan_Amount_Term\n",
    "    \n",
    "    \n",
    "    cat_feature = []\n",
    "    \n",
    "    if Credit_History == 'Yes': \n",
    "        cat_feature.append(1)\n",
    "    else: \n",
    "        cat_feature.append(0)\n",
    "    \n",
    "    if Gender == 'Female':\n",
    "        cat_feature.append(1)\n",
    "        cat_feature.append(0)\n",
    "    else:\n",
    "        cat_feature.append(0)\n",
    "        cat_feature.append(1)\n",
    "    \n",
    "    if Marital_Status == 'No':\n",
    "        cat_feature.append(1)\n",
    "        cat_feature.append(0)\n",
    "    else: \n",
    "        cat_feature.append(0)\n",
    "        cat_feature.append(1)\n",
    "        \n",
    "    if Dependents == 0:\n",
    "        cat_feature.append(1)\n",
    "        cat_feature.append(0)\n",
    "        cat_feature.append(0)\n",
    "        cat_feature.append(0)\n",
    "    elif Dependents == 1: \n",
    "        cat_feature.append(0)\n",
    "        cat_feature.append(1)\n",
    "        cat_feature.append(0)\n",
    "        cat_feature.append(0)\n",
    "    elif Dependents == 2: \n",
    "        cat_feature.append(0)\n",
    "        cat_feature.append(0)\n",
    "        cat_feature.append(1)\n",
    "        cat_feature.append(0)\n",
    "    else: \n",
    "        cat_feature.append(0)\n",
    "        cat_feature.append(0)\n",
    "        cat_feature.append(0)\n",
    "        cat_feature.append(1)  \n",
    "    \n",
    "    if Education_Graduate == 'Yes':\n",
    "        cat_feature.append(1)\n",
    "        cat_feature.append(0)\n",
    "    else:\n",
    "        cat_feature.append(0)\n",
    "        cat_feature.append(1)\n",
    "        \n",
    "    if Self_Employed == 'No': \n",
    "        cat_feature.append(1)\n",
    "        cat_feature.append(0)\n",
    "    else:\n",
    "        cat_feature.append(0)\n",
    "        cat_feature.append(1)\n",
    "        \n",
    "    if Property_Area == 'Rural': \n",
    "        cat_feature.append(1)\n",
    "        cat_feature.append(0)\n",
    "        cat_feature.append(0)\n",
    "    elif Property_Area == 'Semiurban': \n",
    "        cat_feature.append(0)\n",
    "        cat_feature.append(1)\n",
    "        cat_feature.append(0)\n",
    "    else: \n",
    "        cat_feature.append(0)\n",
    "        cat_feature.append(0)\n",
    "        cat_feature.append(1)\n",
    "        \n",
    "    x_colunms = ['Credit_History', 'Total_Income_log', 'EMI', 'Gender_Female',\n",
    "       'Gender_Male', 'Married_No', 'Married_Yes', 'Dependents_0',\n",
    "       'Dependents_1', 'Dependents_2', 'Dependents_3+', 'Education_Graduate',\n",
    "       'Education_Not Graduate', 'Self_Employed_No', 'Self_Employed_Yes',\n",
    "       'Property_Area_Rural', 'Property_Area_Semiurban','Property_Area_Urban']\n",
    "    \n",
    "    x = [[cat_feature[0]],[total_income, emi], cat_feature[1:]]\n",
    "    x_flat = [item for sublist in x for item in sublist]\n",
    "    \n",
    "    df_x = pd.DataFrame(x_flat).T\n",
    "    df_x.columns = x_colunms\n",
    "                        \n",
    "    y = rfc_tune.predict(df_x)\n",
    "    \n",
    "    if y == 1:\n",
    "        print('You will be approved')\n",
    "        \n",
    "    else: \n",
    "        print('You will not be approved')\n",
    "        "
   ]
  },
  {
   "cell_type": "code",
   "execution_count": 41,
   "id": "65f517a2",
   "metadata": {},
   "outputs": [
    {
     "data": {
      "application/vnd.jupyter.widget-view+json": {
       "model_id": "a74069a5cc714b68bf6bb61ebf276aac",
       "version_major": 2,
       "version_minor": 0
      },
      "text/plain": [
       "interactive(children=(IntSlider(value=3800, description='Applicant Income:', max=8500, min=1, style=SliderStyl…"
      ]
     },
     "metadata": {},
     "output_type": "display_data"
    }
   ],
   "source": [
    "# style to keep function parameters visable in the widget \n",
    "style = {'description_width': 'initial'}\n",
    "\n",
    "app_in_range = widgets.IntSlider(description = 'Applicant Income:', min = 1, max = 8500\n",
    "                                 , value = 3800, style = style) # , layout={\"width\": \"500px\"})\n",
    "\n",
    "coapp_in_range = widgets.IntSlider(description = 'Coapplicant Income:', min = 0, max = 8500\n",
    "                                   , value = 3800, style = style)\n",
    "la_range = widgets.IntSlider(description = 'Loan Amount:', min = 1, max = 800\n",
    "                             , value = 400, style = style)\n",
    "lat_range = widgets.IntSlider(description = 'Loan Amount Term:',min = 6, max = 480\n",
    "                              , value = 243 ,style = style)\n",
    "ch_ = widgets.Dropdown(description = 'Credit History:', options = ['Yes', 'No']\n",
    "                       , value = 'Yes', style = style)\n",
    "gender_ = widgets.Dropdown(description = 'Gender:',options = ['Male', 'Female']\n",
    "                           , value = 'Male', style = style)\n",
    "marr_ = widgets.Dropdown(description = 'Marital Status:', options = ['Yes', 'No']\n",
    "                         , value = 'Yes', style = style)\n",
    "depends_ = widgets.Dropdown(description = 'Dependents:', options = ['0', '1', '2', '3+']\n",
    "                            , value = '0',style = style)\n",
    "education_ = widgets.Dropdown(descriptiom = 'Education Graduate:', options = ['Yes', 'No']\n",
    "                              , value = 'Yes', style = style)\n",
    "selfe_ = widgets.Dropdown(description = 'Self Employed:', options = ['Yes', 'No']\n",
    "                          , value = 'Yes', style = style)\n",
    "prop = widgets.Dropdown(description = 'Property Area:', options = ['Rural', 'Semiurban', 'Urban']\n",
    "                        , value = 'Rural', style = style)\n",
    "\n",
    "yes_or_no = widgets.interact(yes_no_rfc, Applicant_Income = app_in_range\n",
    "                    , Coapplicant_Income = coapp_in_range ,Loan_Amount = la_range\n",
    "                    , Loan_Amount_Term = lat_range, Credit_History = ch_, Gender = gender_\n",
    "                    , Marital_Status = marr_, Dependents = depends_ \n",
    "                    , Education_Graduate = education_, Self_Employed = selfe_\n",
    "                    , Property_Area = prop)\n"
   ]
  }
 ],
 "metadata": {
  "kernelspec": {
   "display_name": "Python 3 (ipykernel)",
   "language": "python",
   "name": "python3"
  },
  "language_info": {
   "codemirror_mode": {
    "name": "ipython",
    "version": 3
   },
   "file_extension": ".py",
   "mimetype": "text/x-python",
   "name": "python",
   "nbconvert_exporter": "python",
   "pygments_lexer": "ipython3",
   "version": "3.7.4"
  }
 },
 "nbformat": 4,
 "nbformat_minor": 5
}
